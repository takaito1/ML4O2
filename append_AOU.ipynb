{
 "cells": [
  {
   "cell_type": "markdown",
   "id": "851c9a3a-5b11-4cc4-8c6c-6c407e1b1251",
   "metadata": {},
   "source": [
    "# Append AOU\n",
    "- Include AOU and solubility to the O2 dataset"
   ]
  },
  {
   "cell_type": "code",
   "execution_count": 1,
   "id": "2e59bc92-5d35-4a81-9d5c-3e2f06ed0a0f",
   "metadata": {},
   "outputs": [],
   "source": [
    "import numpy as np\n",
    "import matplotlib.pyplot as plt\n",
    "import xarray as xr\n",
    "import gsw\n",
    "from multiprocessing import pool"
   ]
  },
  {
   "cell_type": "code",
   "execution_count": 8,
   "id": "1b141501-3579-4c36-9369-65a5a50d65e3",
   "metadata": {},
   "outputs": [],
   "source": [
    "version='1.1.1.1.1.1'"
   ]
  },
  {
   "cell_type": "code",
   "execution_count": 9,
   "id": "db304c4a-0b73-41b1-b6fd-925d98c9d289",
   "metadata": {},
   "outputs": [],
   "source": [
    "diro2='/glade/campaign/univ/ugit0034/ML4O2_results/'\n",
    "dirTS='/glade/campaign/univ/ugit0034/EN4/L09_20x180x360/'"
   ]
  },
  {
   "cell_type": "code",
   "execution_count": 10,
   "id": "6fbb28e6-0cb6-4892-9ddd-1d1dfb73e9f9",
   "metadata": {},
   "outputs": [],
   "source": [
    "def calc_o2sat(year,mon):\n",
    "    mo=str(mon).zfill(2)\n",
    "    fn=f'{dirTS}/EN4_TSN2_L09_180x360_{year}{mo}.nc'\n",
    "    ds=xr.open_dataset(fn)\n",
    "    t=ds.CT#.to_numpy()\n",
    "    s=ds.SA#.to_numpy()\n",
    "    p=ds.depth#.to_numpy()\n",
    "    lon=ds.lon#.to_numpy()\n",
    "    lat=ds.lat#.to_numpy()\n",
    "    o2sat=gsw.O2sol(s,t,p,lon,lat)\n",
    "    return o2sat"
   ]
  },
  {
   "cell_type": "code",
   "execution_count": 12,
   "id": "eea0c60b-2edd-48ea-aad8-09a2063be21a",
   "metadata": {},
   "outputs": [],
   "source": [
    "def calc_aou(ver):\n",
    "    fn=f'{diro2}O2map_v{ver}.nc'\n",
    "    wn=f'{diro2}O2AOUmap_v{ver}.nc'\n",
    "    ds=xr.open_dataset(fn)\n",
    "    time = ds.time.to_numpy()\n",
    "    Nt=np.size(time)\n",
    "    aou=np.zeros((Nt,20,180,360))\n",
    "    for n,tim in enumerate(time):\n",
    "        year=str(np.datetime64(tim,'Y'))\n",
    "        mon=n%12+1\n",
    "        o2sat = calc_o2sat(year,mon)\n",
    "        aou[n,:,:,:] = o2sat.to_numpy()-ds.o2est.isel(time=n).to_numpy()\n",
    "    #\n",
    "    p=ds.depth#.to_numpy()\n",
    "    lon=ds.lon#.to_numpy()\n",
    "    lat=ds.lat#.to_numpy()\n",
    "    da=xr.DataArray(data=aou,name='aouest',\n",
    "                    dims=['time','depth','lat','lon'],\n",
    "                    coords={'time':time,'depth':p,'lat':lat,'lon':lon})\n",
    "    ds['aouest']=da\n",
    "    ds.to_netcdf(wn)"
   ]
  },
  {
   "cell_type": "code",
   "execution_count": 13,
   "id": "b3b17833-9bd6-4fcf-8aca-0cb883e43ada",
   "metadata": {},
   "outputs": [],
   "source": [
    "calc_aou(version)"
   ]
  },
  {
   "cell_type": "code",
   "execution_count": null,
   "id": "fc910368-368a-451f-8cd5-bd6e30341553",
   "metadata": {},
   "outputs": [],
   "source": []
  }
 ],
 "metadata": {
  "kernelspec": {
   "display_name": "ML4O2_v2",
   "language": "python",
   "name": "ml4o2_v2"
  },
  "language_info": {
   "codemirror_mode": {
    "name": "ipython",
    "version": 3
   },
   "file_extension": ".py",
   "mimetype": "text/x-python",
   "name": "python",
   "nbconvert_exporter": "python",
   "pygments_lexer": "ipython3",
   "version": "3.12.0"
  }
 },
 "nbformat": 4,
 "nbformat_minor": 5
}
