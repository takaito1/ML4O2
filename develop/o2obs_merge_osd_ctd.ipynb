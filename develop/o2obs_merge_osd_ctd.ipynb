{
 "cells": [
  {
   "cell_type": "markdown",
   "id": "8faa111e-05ac-4f80-9bee-f601b5bca839",
   "metadata": {},
   "source": [
    "# Preprocessing of WOD18 data\n",
    "    - merge osd and ctd data"
   ]
  },
  {
   "cell_type": "code",
   "execution_count": 6,
   "id": "73f4841c-2e34-4013-bbc0-a776d4f3d264",
   "metadata": {},
   "outputs": [],
   "source": [
    "import numpy as np\n",
    "import matplotlib.pyplot as plt\n",
    "import xarray as xr\n",
    "import sklearn as skl\n",
    "import gsw\n",
    "import cartopy.crs as ccrs\n",
    "from scipy.interpolate import interp1d"
   ]
  },
  {
   "cell_type": "markdown",
   "id": "0fd6f645-f44d-4719-b953-29a7c85942b1",
   "metadata": {},
   "source": [
    "### First prepare O2, T, S, stratification data from WOD"
   ]
  },
  {
   "cell_type": "code",
   "execution_count": 7,
   "id": "423dfb32-5f0d-4dac-a81e-b79f298992c5",
   "metadata": {},
   "outputs": [],
   "source": [
    "# observational data \n",
    "diro = '/glade/scratch/ito/WOD18_OSDCTD/'\n",
    "fosd='_1x1bin_osd_'\n",
    "fctd='_1x1bin_ctd_'\n",
    "vs=['t','s','o2']"
   ]
  },
  {
   "cell_type": "code",
   "execution_count": 8,
   "id": "de903739-fc32-4055-a6da-cf1671f163d9",
   "metadata": {},
   "outputs": [],
   "source": [
    "# basin mask\n",
    "dsm=xr.open_dataset('/glade/work/ito/dataset/model/basin_mask_01.nc')"
   ]
  },
  {
   "cell_type": "code",
   "execution_count": 9,
   "id": "750f7519-38b1-4a24-9fcb-405dc1ef4a01",
   "metadata": {},
   "outputs": [],
   "source": [
    "def merge_osd_ctd(year):\n",
    "    for n in range(3):\n",
    "        if year < 1987:\n",
    "            d0=xr.open_dataset(diro+vs[n]+fosd+str(year)+'.nc')\n",
    "            d0.to_netcdf(diro+vs[n]+'_1x1bin_merged_'+str(year)+'.nc')\n",
    "        else:\n",
    "            d0=xr.open_dataset(diro+vs[n]+fosd+str(year)+'.nc')\n",
    "            d1=xr.open_dataset(diro+vs[n]+fctd+str(year)+'.nc')\n",
    "            N0=d0.sample_count.to_numpy()\n",
    "            N1=d1.sample_count.to_numpy()\n",
    "            if n == 0:\n",
    "                c0=d0.t.to_numpy()\n",
    "                c1=d1.t.to_numpy()\n",
    "            elif n == 1:\n",
    "                c0=d0.s.to_numpy()\n",
    "                c1=d1.s.to_numpy()\n",
    "            else:\n",
    "                c0=d0.o2.to_numpy()\n",
    "                c1=d1.o2.to_numpy()\n",
    "            #\n",
    "            mon=d0.mon.to_numpy()\n",
    "            depth=d0.depth.to_numpy()\n",
    "            lat=d0.lat.to_numpy()\n",
    "            lon=d0.lon.to_numpy()\n",
    "            #\n",
    "            tmp=(c0*N0 + c1*N1)/(N0+N1)\n",
    "            da=xr.DataArray(data=tmp,name=vs[n],dims=['mon','depth','lat','lon'],\n",
    "                        coords={'mon':mon,'depth':depth,'lat':lat,'lon':lon})\n",
    "            ds=da.to_dataset()\n",
    "            N=N0+N1\n",
    "            ds['sample_count']=xr.DataArray(data=N,name='sample_count',\\\n",
    "                        dims=['mon','depth','lat','lon'],\\\n",
    "                        coords={'mon':mon,'depth':depth,'lat':lat,'lon':lon})\n",
    "            #\n",
    "            ds.to_netcdf(diro+vs[n]+'_1x1bin_merged_'+str(year)+'.nc')\n",
    "    return 1"
   ]
  },
  {
   "cell_type": "code",
   "execution_count": 10,
   "id": "130f7ec9-e548-4a54-a720-8abc78e81b26",
   "metadata": {},
   "outputs": [
    {
     "name": "stdout",
     "output_type": "stream",
     "text": [
      "[1, 1, 1, 1, 1, 1, 1, 1, 1, 1, 1, 1, 1, 1, 1, 1, 1, 1, 1, 1, 1, 1, 1, 1, 1, 1, 1, 1, 1, 1, 1, 1, 1, 1, 1, 1, 1, 1, 1, 1, 1, 1, 1, 1, 1, 1, 1, 1, 1, 1, 1, 1, 1, 1, 1, 1]\n"
     ]
    }
   ],
   "source": [
    "yrs=np.arange(1965,2021,1)\n",
    "from multiprocessing import Pool\n",
    "if __name__ == '__main__':\n",
    "    with Pool(8) as p:\n",
    "        print(p.map(merge_osd_ctd, yrs))"
   ]
  },
  {
   "cell_type": "code",
   "execution_count": null,
   "id": "f2d8fb80-f6dc-45b6-9d0b-7434582896c6",
   "metadata": {},
   "outputs": [],
   "source": []
  }
 ],
 "metadata": {
  "kernelspec": {
   "display_name": "Python [conda env:miniconda3-proj]",
   "language": "python",
   "name": "conda-env-miniconda3-proj-py"
  },
  "language_info": {
   "codemirror_mode": {
    "name": "ipython",
    "version": 3
   },
   "file_extension": ".py",
   "mimetype": "text/x-python",
   "name": "python",
   "nbconvert_exporter": "python",
   "pygments_lexer": "ipython3",
   "version": "3.8.16"
  }
 },
 "nbformat": 4,
 "nbformat_minor": 5
}
