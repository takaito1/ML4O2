{
 "cells": [
  {
   "cell_type": "markdown",
   "id": "49353156-83a0-4d0c-b13c-e71c192b1500",
   "metadata": {},
   "source": [
    "# North Atlantic O2 gapfill projection\n",
    "    - Uses pre-computed ML model\n",
    "    - Absolute magnitude of O2 is estimated as a function of T, S, long, lat, and time (year, month)\n",
    "    - Separates the data into training and test data (75% - 25%)\n",
    "    - calculate for each z level, native in EN4 grid"
   ]
  },
  {
   "cell_type": "code",
   "execution_count": 1,
   "id": "e6bc1ecb-a8dd-41b0-a663-4ce4286e87fd",
   "metadata": {},
   "outputs": [],
   "source": [
    "import numpy as np\n",
    "import matplotlib.pyplot as plt\n",
    "import xarray as xr\n",
    "import sklearn as skl\n",
    "import gsw\n",
    "import cartopy.crs as ccrs\n",
    "from scipy.interpolate import interp1d\n",
    "import os\n",
    "import warnings\n",
    "warnings.filterwarnings('ignore')\n",
    "import joblib\n",
    "from multiprocessing import Pool"
   ]
  },
  {
   "cell_type": "code",
   "execution_count": 2,
   "id": "e55c7b99-e574-49a4-bfb6-1ff742942808",
   "metadata": {},
   "outputs": [],
   "source": [
    "# version information\n",
    "ver = '1.3'\n",
    "# select ML model\n",
    "modname='NN'\n",
    "# \n",
    "# zoffset\n",
    "zoff=100"
   ]
  },
  {
   "cell_type": "code",
   "execution_count": 3,
   "id": "f352f89b-2c15-455e-a762-f9bbcebac44b",
   "metadata": {},
   "outputs": [
    {
     "data": {
      "text/plain": [
       "0"
      ]
     },
     "execution_count": 3,
     "metadata": {},
     "output_type": "execute_result"
    }
   ],
   "source": [
    "# observational data \n",
    "# -------------------------------------------------------------\n",
    "# Needs adjustment: this is where you write out the output files\n",
    "diro = '/glade/scratch/ito/WOD18_OSDCTD/'\n",
    "# -------------------------------------------------------------\n",
    "dirf = '/glade/campaign/univ/ugit0034/EN4/L09_20x180x360/'\n",
    "dirin = '/glade/campaign/univ/ugit0034/WOD18_OSDCTD/'\n",
    "fosd='_1x1bin_osd_'\n",
    "fctd='_1x1bin_ctd_'\n",
    "fmer='_1x1bin_merged_'\n",
    "var=['o2','TSN2']\n",
    "os.system('mkdir -p '+diro)\n",
    "os.system('mkdir -p '+diro+'temp')"
   ]
  },
  {
   "cell_type": "code",
   "execution_count": 4,
   "id": "397f31ef-e8e8-459a-8016-a11e1de74de1",
   "metadata": {},
   "outputs": [],
   "source": [
    "# obtain vertical grid\n",
    "ds=xr.open_dataset(dirin+var[0]+fmer+str(1965)+'.nc')\n",
    "Z=ds.depth.to_numpy()\n",
    "Nz=np.size(Z)"
   ]
  },
  {
   "cell_type": "code",
   "execution_count": 5,
   "id": "16e94634-89c6-47cc-b8a3-cfbd7adb4e71",
   "metadata": {},
   "outputs": [],
   "source": [
    "# select analysis period\n",
    "# do not change the start year from 1965 (this is when Carpenter 1965 established modern Winkler method)\n",
    "yrs=np.arange(1965,2011,1)\n",
    "t=np.arange('1965-01','2011-01',dtype='datetime64[M]')"
   ]
  },
  {
   "cell_type": "code",
   "execution_count": 6,
   "id": "02da61a5-d5f2-4782-9fa7-2a25aa162008",
   "metadata": {},
   "outputs": [],
   "source": [
    "MLmodel = joblib.load(f'{modname}_model_v{ver}.sav')\n",
    "# read in additional parameters\n",
    "params = np.load(f'ML_params_v{ver}.npz')\n",
    "Xm=params['Xm']\n",
    "Xstd=params['Xstd']\n",
    "ym=params['ym']\n",
    "ystd=params['ystd']"
   ]
  },
  {
   "cell_type": "code",
   "execution_count": 7,
   "id": "2aecb849-4dcb-4240-a76f-610e99f2e08b",
   "metadata": {},
   "outputs": [],
   "source": [
    "# get mld clim\n",
    "mldc=np.load('mldc.npy')"
   ]
  },
  {
   "cell_type": "code",
   "execution_count": 8,
   "id": "0a144713-9e70-46cb-882c-7bbe6b3a6823",
   "metadata": {},
   "outputs": [],
   "source": [
    "dwoa=xr.open_dataset('/glade/campaign/univ/ugit0034/woa18/woa18_all_o00_01.nc',decode_times=False)"
   ]
  },
  {
   "cell_type": "code",
   "execution_count": 9,
   "id": "3ddb2d5f-260b-402f-bb6d-febc85dd8f8a",
   "metadata": {},
   "outputs": [],
   "source": [
    "# basin mask\n",
    "dsm=xr.open_dataset('/glade/campaign/univ/ugit0034/wod18/basin_mask_01.nc')\n",
    "#! cp /glade/work/ito/basin_mask_01.nc /glade/campaign/univ/ugit0034/wod18/."
   ]
  },
  {
   "cell_type": "code",
   "execution_count": 10,
   "id": "a87f63e4-a5f6-4929-8b22-016031b15192",
   "metadata": {},
   "outputs": [],
   "source": [
    "# select Atlantic basin\n",
    "# Atlantic is mask = 1\n",
    "ma = dsm.basin_mask.sel(depth=Z).to_numpy()"
   ]
  },
  {
   "cell_type": "code",
   "execution_count": 11,
   "id": "3939be1d-27f1-4385-ad39-fdee3f57faa8",
   "metadata": {},
   "outputs": [],
   "source": [
    "zlev=300\n",
    "kind=[idx for idx,elem in enumerate(Z) if elem==zlev]\n",
    "maz=np.squeeze(ma[kind,:,:])\n",
    "#\n",
    "mon=[\"%.2d\" % i for i in np.arange(1,13,1)]\n",
    "#\n",
    "dc=xr.open_dataset(dirf+'EN4_TSN2_L09_180x360_'+str(1965)+mon[0]+'.nc')\n",
    "y=dc.lat.to_numpy()\n",
    "x=dc.lon.to_numpy()\n",
    "Ny=np.size(y)\n",
    "Nx=np.size(x)\n",
    "Nt=np.size(yrs)*12\n",
    "xx,yy=np.meshgrid(x,y)\n",
    "#\n",
    "depth1 = dc.depth.to_numpy()\n",
    "Nz1 = np.size(depth1)"
   ]
  },
  {
   "cell_type": "code",
   "execution_count": 12,
   "id": "09a2bea6-1f0d-4f24-8831-a4e91137366f",
   "metadata": {},
   "outputs": [],
   "source": [
    "# apply basin mask \n",
    "def apply_basinmask(datain):\n",
    "    dataout=np.where((maz==1)&(yy>0),datain,np.nan)\n",
    "    return dataout"
   ]
  },
  {
   "cell_type": "code",
   "execution_count": 13,
   "id": "4b9396e2-81d1-432a-80e3-e46b58f18ffe",
   "metadata": {},
   "outputs": [],
   "source": [
    "def moving_average(data,w):\n",
    "    weight=np.ones(w)/w\n",
    "    smooth_data=np.convolve(data, weight, mode='same')\n",
    "    return smooth_data"
   ]
  },
  {
   "cell_type": "code",
   "execution_count": 14,
   "id": "2db04a21-c7d8-450f-9f2b-97a7c68bf7df",
   "metadata": {},
   "outputs": [],
   "source": [
    "# get input data from full model\n",
    "def get_inputdata(zlev,it,year,mn):\n",
    "    #dc = xr.open_dataset(dirf+'EN4_TSN2_G10_180x360_'+str(year)+mon[mn]+'.nc')\n",
    "    dc = xr.open_dataset(dirf+'EN4_TSN2_L09_180x360_'+str(year)+mon[mn]+'.nc')\n",
    "    soa=dc.SA.interp(depth=zlev).to_numpy().squeeze()\n",
    "    toa=dc.CT.interp(depth=zlev).to_numpy().squeeze()\n",
    "    mld=np.squeeze(mldc[mn,:,:])\n",
    "    return soa,toa,mld"
   ]
  },
  {
   "cell_type": "code",
   "execution_count": 15,
   "id": "ecabb87d-ad12-44a8-af90-7fd74d035e9e",
   "metadata": {},
   "outputs": [],
   "source": [
    "# generate data matrix\n",
    "def gen_datamatrix(xi,yi,it,x1,x2,x3,x4,mld):\n",
    "    X1 = x1.flatten() # \n",
    "    X2 = x2.flatten() # \n",
    "    X3 = x3.flatten() # \n",
    "    X4 = x4.flatten() # \n",
    "    tt0  = np.ones((Ny,Nx))*it\n",
    "    X5 = tt0.flatten() # decimal year \n",
    "    X6 = X5%12         # month\n",
    "    xxi = xi.flatten() # lon\n",
    "    yyi = yi.flatten() # lat\n",
    "    # \n",
    "    ml1 = mld.flatten()\n",
    "    X6 = np.where(ml1>zlev-zoff,X6,2)\n",
    "    # remove nan\n",
    "    #print([np.size(X1),np.size(X2),np.size(X3),np.size(X4),np.size(X5)])\n",
    "    dd = X1+X2+X3+X4+X5\n",
    "    X11=X1[np.isnan(dd)==False]\n",
    "    X21=X2[np.isnan(dd)==False]\n",
    "    X31=X3[np.isnan(dd)==False]\n",
    "    X41=X4[np.isnan(dd)==False]\n",
    "    X51=X5[np.isnan(dd)==False]\n",
    "    X61=X6[np.isnan(dd)==False]\n",
    "    #\n",
    "    Xi=xxi[np.isnan(dd)==False]\n",
    "    Yi=yyi[np.isnan(dd)==False]\n",
    "    #\n",
    "    zin = np.ones(np.size(X11))*zlev\n",
    "    # Normalize data\n",
    "    # generate data matrix and standardize it\n",
    "    X = np.array([X11, X21, X31, X41, X51, X61])\n",
    "    #X = np.array([X11, X21, X31, X41, zin, X51, X61])\n",
    "    Xa = (X.T - Xm)/Xstd\n",
    "    Nsample = np.size(X11)\n",
    "    #print(Nsample)\n",
    "    return Xa,Xi,Yi"
   ]
  },
  {
   "cell_type": "code",
   "execution_count": 16,
   "id": "993d62e2-8b57-4bb5-bc2e-ac09a0ec6da6",
   "metadata": {},
   "outputs": [],
   "source": [
    "def map_yearly(year):\n",
    "    Nx=np.size(x)\n",
    "    Ny=np.size(y)\n",
    "    zlev_arr=np.array([zlev])\n",
    "    o2est2=np.zeros((12,1,Ny,Nx))\n",
    "    xxi,yyi=np.meshgrid(np.arange(0,Nx,1),np.arange(0,Ny,1))\n",
    "    if year%10 == 5:\n",
    "        print('year = '+str(year))\n",
    "    t=np.arange(str(year)+'-01',str(year+1)+'-01',dtype='datetime64[M]')\n",
    "    for month in range(12):\n",
    "        it = month+(year-1965)*12\n",
    "        soa,toa,mld = get_inputdata(zlev,it,year,month)\n",
    "        # apply mask\n",
    "        soa=apply_basinmask(soa)\n",
    "        toa=apply_basinmask(toa)\n",
    "        mld=apply_basinmask(mld)\n",
    "        # generate data matrix\n",
    "        Xa,xi,yi=gen_datamatrix(xxi,yyi,it,soa,toa,xx,yy,mld)\n",
    "        temp = np.shape(Xa)\n",
    "        Nsample=temp[0]\n",
    "        # projection\n",
    "        out = reg.predict(Xa)\n",
    "        # map it back to lon-lat grid\n",
    "        temp = np.nan*np.zeros((Ny,Nx))\n",
    "        for n in range(Nsample):\n",
    "            temp[yi[n],xi[n]]=out[n]\n",
    "        o2est2[month,0,:,:] = temp*ystd + ym\n",
    "    da1=xr.DataArray(data=o2est2,name='o2est',dims=['time','depth','lat','lon'],\n",
    "                 coords={'time':t,'depth':zlev_arr,'lat':y,'lon':x})\n",
    "    ds=da1.to_dataset()\n",
    "    ds.to_netcdf(diro+'temp/o2est_'+str(year)+'.nc')\n",
    "    return 0"
   ]
  },
  {
   "cell_type": "code",
   "execution_count": 17,
   "id": "c369ec40-eb49-46b7-afc5-e6e7cb0192c3",
   "metadata": {},
   "outputs": [
    {
     "name": "stdout",
     "output_type": "stream",
     "text": [
      "calculating 6.0m\n",
      "year = 1965year = 1975\n",
      "\n",
      "year = 1985\n",
      "year = 1995\n",
      "year = 2005\n",
      "[0, 0, 0, 0, 0, 0, 0, 0, 0, 0, 0, 0, 0, 0, 0, 0, 0, 0, 0, 0, 0, 0, 0, 0, 0, 0, 0, 0, 0, 0, 0, 0, 0, 0, 0, 0, 0, 0, 0, 0, 0, 0, 0, 0, 0, 0]\n",
      "calculating 10.0m\n",
      "year = 1965year = 1975\n",
      "\n",
      "year = 1985\n",
      "year = 1995\n",
      "year = 2005\n",
      "[0, 0, 0, 0, 0, 0, 0, 0, 0, 0, 0, 0, 0, 0, 0, 0, 0, 0, 0, 0, 0, 0, 0, 0, 0, 0, 0, 0, 0, 0, 0, 0, 0, 0, 0, 0, 0, 0, 0, 0, 0, 0, 0, 0, 0, 0]\n",
      "calculating 20.0m\n",
      "year = 1965year = 1975\n",
      "\n",
      "year = 1985\n",
      "year = 1995\n",
      "year = 2005\n",
      "[0, 0, 0, 0, 0, 0, 0, 0, 0, 0, 0, 0, 0, 0, 0, 0, 0, 0, 0, 0, 0, 0, 0, 0, 0, 0, 0, 0, 0, 0, 0, 0, 0, 0, 0, 0, 0, 0, 0, 0, 0, 0, 0, 0, 0, 0]\n",
      "calculating 30.0m\n",
      "year = 1965year = 1975\n",
      "\n",
      "year = 1985\n",
      "year = 1995\n",
      "year = 2005\n",
      "[0, 0, 0, 0, 0, 0, 0, 0, 0, 0, 0, 0, 0, 0, 0, 0, 0, 0, 0, 0, 0, 0, 0, 0, 0, 0, 0, 0, 0, 0, 0, 0, 0, 0, 0, 0, 0, 0, 0, 0, 0, 0, 0, 0, 0, 0]\n",
      "calculating 40.0m\n",
      "year = 1965year = 1975\n",
      "\n",
      "year = 1985\n",
      "year = 1995\n",
      "year = 2005\n",
      "[0, 0, 0, 0, 0, 0, 0, 0, 0, 0, 0, 0, 0, 0, 0, 0, 0, 0, 0, 0, 0, 0, 0, 0, 0, 0, 0, 0, 0, 0, 0, 0, 0, 0, 0, 0, 0, 0, 0, 0, 0, 0, 0, 0, 0, 0]\n",
      "calculating 50.0m\n",
      "year = 1965year = 1975\n",
      "\n",
      "year = 1985\n",
      "year = 1995\n",
      "year = 2005\n",
      "[0, 0, 0, 0, 0, 0, 0, 0, 0, 0, 0, 0, 0, 0, 0, 0, 0, 0, 0, 0, 0, 0, 0, 0, 0, 0, 0, 0, 0, 0, 0, 0, 0, 0, 0, 0, 0, 0, 0, 0, 0, 0, 0, 0, 0, 0]\n",
      "calculating 65.0m\n",
      "year = 1965year = 1975\n",
      "\n",
      "year = 1985\n",
      "year = 1995\n",
      "year = 2005\n",
      "[0, 0, 0, 0, 0, 0, 0, 0, 0, 0, 0, 0, 0, 0, 0, 0, 0, 0, 0, 0, 0, 0, 0, 0, 0, 0, 0, 0, 0, 0, 0, 0, 0, 0, 0, 0, 0, 0, 0, 0, 0, 0, 0, 0, 0, 0]\n",
      "calculating 80.0m\n",
      "year = 1975year = 1965\n",
      "\n",
      "year = 1985\n",
      "year = 1995\n",
      "year = 2005\n",
      "[0, 0, 0, 0, 0, 0, 0, 0, 0, 0, 0, 0, 0, 0, 0, 0, 0, 0, 0, 0, 0, 0, 0, 0, 0, 0, 0, 0, 0, 0, 0, 0, 0, 0, 0, 0, 0, 0, 0, 0, 0, 0, 0, 0, 0, 0]\n",
      "calculating 100.0m\n",
      "year = 1965year = 1975\n",
      "\n",
      "year = 1985\n",
      "year = 1995\n",
      "year = 2005\n",
      "[0, 0, 0, 0, 0, 0, 0, 0, 0, 0, 0, 0, 0, 0, 0, 0, 0, 0, 0, 0, 0, 0, 0, 0, 0, 0, 0, 0, 0, 0, 0, 0, 0, 0, 0, 0, 0, 0, 0, 0, 0, 0, 0, 0, 0, 0]\n",
      "calculating 150.0m\n",
      "year = 1965year = 1975\n",
      "\n",
      "year = 1985\n",
      "year = 1995\n",
      "year = 2005\n",
      "[0, 0, 0, 0, 0, 0, 0, 0, 0, 0, 0, 0, 0, 0, 0, 0, 0, 0, 0, 0, 0, 0, 0, 0, 0, 0, 0, 0, 0, 0, 0, 0, 0, 0, 0, 0, 0, 0, 0, 0, 0, 0, 0, 0, 0, 0]\n",
      "calculating 200.0m\n",
      "year = 1965year = 1975\n",
      "\n",
      "year = 1985\n",
      "year = 1995\n",
      "year = 2005\n",
      "[0, 0, 0, 0, 0, 0, 0, 0, 0, 0, 0, 0, 0, 0, 0, 0, 0, 0, 0, 0, 0, 0, 0, 0, 0, 0, 0, 0, 0, 0, 0, 0, 0, 0, 0, 0, 0, 0, 0, 0, 0, 0, 0, 0, 0, 0]\n",
      "calculating 250.0m\n",
      "year = 1965year = 1975\n",
      "\n",
      "year = 1985\n",
      "year = 1995\n",
      "year = 2005\n",
      "[0, 0, 0, 0, 0, 0, 0, 0, 0, 0, 0, 0, 0, 0, 0, 0, 0, 0, 0, 0, 0, 0, 0, 0, 0, 0, 0, 0, 0, 0, 0, 0, 0, 0, 0, 0, 0, 0, 0, 0, 0, 0, 0, 0, 0, 0]\n",
      "calculating 300.0m\n",
      "year = 1965year = 1975\n",
      "\n",
      "year = 1985\n",
      "year = 1995\n",
      "year = 2005\n",
      "[0, 0, 0, 0, 0, 0, 0, 0, 0, 0, 0, 0, 0, 0, 0, 0, 0, 0, 0, 0, 0, 0, 0, 0, 0, 0, 0, 0, 0, 0, 0, 0, 0, 0, 0, 0, 0, 0, 0, 0, 0, 0, 0, 0, 0, 0]\n",
      "calculating 400.0m\n",
      "year = 1965year = 1975\n",
      "\n",
      "year = 1985\n",
      "year = 1995\n",
      "year = 2005\n",
      "[0, 0, 0, 0, 0, 0, 0, 0, 0, 0, 0, 0, 0, 0, 0, 0, 0, 0, 0, 0, 0, 0, 0, 0, 0, 0, 0, 0, 0, 0, 0, 0, 0, 0, 0, 0, 0, 0, 0, 0, 0, 0, 0, 0, 0, 0]\n",
      "calculating 500.0m\n",
      "year = 1965year = 1975\n",
      "\n",
      "year = 1985\n",
      "year = 1995\n",
      "year = 2005\n",
      "[0, 0, 0, 0, 0, 0, 0, 0, 0, 0, 0, 0, 0, 0, 0, 0, 0, 0, 0, 0, 0, 0, 0, 0, 0, 0, 0, 0, 0, 0, 0, 0, 0, 0, 0, 0, 0, 0, 0, 0, 0, 0, 0, 0, 0, 0]\n",
      "calculating 600.0m\n",
      "year = 1965year = 1975\n",
      "\n",
      "year = 1985\n",
      "year = 1995\n",
      "year = 2005\n",
      "[0, 0, 0, 0, 0, 0, 0, 0, 0, 0, 0, 0, 0, 0, 0, 0, 0, 0, 0, 0, 0, 0, 0, 0, 0, 0, 0, 0, 0, 0, 0, 0, 0, 0, 0, 0, 0, 0, 0, 0, 0, 0, 0, 0, 0, 0]\n",
      "calculating 700.0m\n",
      "year = 1965year = 1975\n",
      "\n",
      "year = 1985\n",
      "year = 1995\n",
      "year = 2005\n",
      "[0, 0, 0, 0, 0, 0, 0, 0, 0, 0, 0, 0, 0, 0, 0, 0, 0, 0, 0, 0, 0, 0, 0, 0, 0, 0, 0, 0, 0, 0, 0, 0, 0, 0, 0, 0, 0, 0, 0, 0, 0, 0, 0, 0, 0, 0]\n",
      "calculating 800.0m\n",
      "year = 1965year = 1975\n",
      "\n",
      "year = 1985\n",
      "year = 1995\n",
      "year = 2005\n",
      "[0, 0, 0, 0, 0, 0, 0, 0, 0, 0, 0, 0, 0, 0, 0, 0, 0, 0, 0, 0, 0, 0, 0, 0, 0, 0, 0, 0, 0, 0, 0, 0, 0, 0, 0, 0, 0, 0, 0, 0, 0, 0, 0, 0, 0, 0]\n",
      "calculating 900.0m\n",
      "year = 1975year = 1965\n",
      "\n",
      "year = 1985\n",
      "year = 1995\n",
      "year = 2005\n",
      "[0, 0, 0, 0, 0, 0, 0, 0, 0, 0, 0, 0, 0, 0, 0, 0, 0, 0, 0, 0, 0, 0, 0, 0, 0, 0, 0, 0, 0, 0, 0, 0, 0, 0, 0, 0, 0, 0, 0, 0, 0, 0, 0, 0, 0, 0]\n",
      "calculating 1000.0m\n",
      "year = 1975year = 1965\n",
      "\n",
      "year = 1985\n",
      "year = 1995\n",
      "year = 2005\n",
      "[0, 0, 0, 0, 0, 0, 0, 0, 0, 0, 0, 0, 0, 0, 0, 0, 0, 0, 0, 0, 0, 0, 0, 0, 0, 0, 0, 0, 0, 0, 0, 0, 0, 0, 0, 0, 0, 0, 0, 0, 0, 0, 0, 0, 0, 0]\n"
     ]
    }
   ],
   "source": [
    "zlevels = depth1\n",
    "#\n",
    "# reconstruction in parallel mode\n",
    "#\n",
    "reg=MLmodel\n",
    "x=dc.lon\n",
    "y=dc.lat\n",
    "#\n",
    "for zlev_cnt,zlev in enumerate(zlevels):\n",
    "    print(f'calculating {zlev}m')\n",
    "    maz = dsm.basin_mask.interp(depth=zlev).to_numpy()\n",
    "    #kind=[idx for idx,elem in enumerate(Z) if elem==zlev]\n",
    "    #maz=np.squeeze(ma[kind,:,:])\n",
    "    os.system('rm '+diro+'/temp/*.nc')\n",
    "    #\n",
    "    if __name__ == '__main__':\n",
    "        with Pool(10) as p:\n",
    "            print(p.map(map_yearly, yrs))\n",
    "    #\n",
    "    # save the result as a netCDF file\n",
    "    #\n",
    "    dtemp=xr.open_mfdataset(diro+'temp/o2est*.nc')\n",
    "    dtemp.to_netcdf(diro+'/O2abs_NA_'+modname+'_WOD18O2xEN4TS_monthly_v'+ver+'_z'+str(int(zlev))+'.nc')"
   ]
  },
  {
   "cell_type": "code",
   "execution_count": 18,
   "id": "227ed509-bace-4c37-9c68-c263959fc4c4",
   "metadata": {},
   "outputs": [],
   "source": [
    "#! rm /glade/scratch/ito/WOD18_OSDCTD/O2abs_NA_RF_*v1.3*.nc"
   ]
  },
  {
   "cell_type": "code",
   "execution_count": 19,
   "id": "f8123585-4ee7-4570-b915-aaf4233b1fa6",
   "metadata": {},
   "outputs": [],
   "source": [
    "ds=xr.open_mfdataset(f'{diro}O2abs_NA_{modname}*')"
   ]
  },
  {
   "cell_type": "code",
   "execution_count": 20,
   "id": "918aa4fc-5168-4c64-bcf2-5380909ec71d",
   "metadata": {},
   "outputs": [],
   "source": [
    "os.system(f'rm {diro}O2abs_NA_{modname}_WOD18O2xEN4TS_monthly_v{ver}.nc')\n",
    "ds.to_netcdf(f'{diro}O2abs_NA_{modname}_WOD18O2xEN4TS_monthly_v{ver}.nc')"
   ]
  },
  {
   "cell_type": "code",
   "execution_count": 21,
   "id": "da1412cf-52f0-4ace-82bb-05fb8c7ae43f",
   "metadata": {},
   "outputs": [
    {
     "name": "stdout",
     "output_type": "stream",
     "text": [
      "-rw-r--r-- 1 ito ncar 297M Aug  1 18:33 /glade/scratch/ito/WOD18_OSDCTD/O2abs_NA_NN_WOD18O2xEN4TS_monthly_v1.1_z6.nc\n",
      "-rw-r--r-- 1 ito ncar 297M Aug  1 18:34 /glade/scratch/ito/WOD18_OSDCTD/O2abs_NA_NN_WOD18O2xEN4TS_monthly_v1.1_z10.nc\n",
      "-rw-r--r-- 1 ito ncar 297M Aug  1 18:34 /glade/scratch/ito/WOD18_OSDCTD/O2abs_NA_NN_WOD18O2xEN4TS_monthly_v1.1_z20.nc\n",
      "-rw-r--r-- 1 ito ncar 297M Aug  1 18:34 /glade/scratch/ito/WOD18_OSDCTD/O2abs_NA_NN_WOD18O2xEN4TS_monthly_v1.1_z30.nc\n",
      "-rw-r--r-- 1 ito ncar 297M Aug  1 18:34 /glade/scratch/ito/WOD18_OSDCTD/O2abs_NA_NN_WOD18O2xEN4TS_monthly_v1.1_z40.nc\n",
      "-rw-r--r-- 1 ito ncar 297M Aug  1 18:34 /glade/scratch/ito/WOD18_OSDCTD/O2abs_NA_NN_WOD18O2xEN4TS_monthly_v1.1_z50.nc\n",
      "-rw-r--r-- 1 ito ncar 297M Aug  1 18:34 /glade/scratch/ito/WOD18_OSDCTD/O2abs_NA_NN_WOD18O2xEN4TS_monthly_v1.1_z65.nc\n",
      "-rw-r--r-- 1 ito ncar 297M Aug  1 18:34 /glade/scratch/ito/WOD18_OSDCTD/O2abs_NA_NN_WOD18O2xEN4TS_monthly_v1.1_z80.nc\n",
      "-rw-r--r-- 1 ito ncar 297M Aug  1 18:35 /glade/scratch/it"
     ]
    },
    {
     "data": {
      "text/plain": [
       "0"
      ]
     },
     "execution_count": 21,
     "metadata": {},
     "output_type": "execute_result"
    }
   ],
   "source": [
    "os.system(f'ls -althr {diro}O2abs_NA_{modname}*')"
   ]
  },
  {
   "cell_type": "code",
   "execution_count": null,
   "id": "fd4f1215-b2cd-4523-a3fa-5907ce882598",
   "metadata": {},
   "outputs": [],
   "source": []
  }
 ],
 "metadata": {
  "kernelspec": {
   "display_name": "calc2",
   "language": "python",
   "name": "calc2"
  },
  "language_info": {
   "codemirror_mode": {
    "name": "ipython",
    "version": 3
   },
   "file_extension": ".py",
   "mimetype": "text/x-python",
   "name": "python",
   "nbconvert_exporter": "python",
   "pygments_lexer": "ipython3",
   "version": "3.8.16"
  }
 },
 "nbformat": 4,
 "nbformat_minor": 5
}
